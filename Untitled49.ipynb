{
 "cells": [
  {
   "cell_type": "code",
   "execution_count": 1,
   "metadata": {
    "collapsed": true
   },
   "outputs": [],
   "source": [
    "import plotly.plotly as py"
   ]
  },
  {
   "cell_type": "code",
   "execution_count": 4,
   "metadata": {},
   "outputs": [],
   "source": [
    "from plotly.offline import download_plotlyjs,init_notebook_mode,plot,iplot"
   ]
  },
  {
   "cell_type": "code",
   "execution_count": 9,
   "metadata": {},
   "outputs": [
    {
     "data": {
      "text/html": [
       "<script>requirejs.config({paths: { 'plotly': ['https://cdn.plot.ly/plotly-latest.min']},});if(!window.Plotly) {{require(['plotly'],function(plotly) {window.Plotly=plotly;});}}</script>"
      ],
      "text/vnd.plotly.v1+html": [
       "<script>requirejs.config({paths: { 'plotly': ['https://cdn.plot.ly/plotly-latest.min']},});if(!window.Plotly) {{require(['plotly'],function(plotly) {window.Plotly=plotly;});}}</script>"
      ]
     },
     "metadata": {},
     "output_type": "display_data"
    }
   ],
   "source": [
    "init_notebook_mode(connected=True)"
   ]
  },
  {
   "cell_type": "code",
   "execution_count": 44,
   "metadata": {
    "collapsed": true
   },
   "outputs": [],
   "source": [
    "import plotly.graph_objs as go"
   ]
  },
  {
   "cell_type": "code",
   "execution_count": 49,
   "metadata": {
    "collapsed": true
   },
   "outputs": [],
   "source": [
    "data = dict(type = 'choropleth',\n",
    "            locations = ['AZ','CA','NY'],\n",
    "           locationmode = 'INDIA',\n",
    "           colorscale = 'portland',\n",
    "           text   =  ['hydrabad','Vijayawada','Maharastra'],\n",
    "           z = [1,0,2.0,3.0],\n",
    "           colorbar = {'title':'Indian States color bar'})"
   ]
  },
  {
   "cell_type": "code",
   "execution_count": 50,
   "metadata": {
    "collapsed": true
   },
   "outputs": [],
   "source": [
    "layout = dict(geo={'scope':'india'})"
   ]
  },
  {
   "cell_type": "code",
   "execution_count": 51,
   "metadata": {},
   "outputs": [],
   "source": [
    "choromap = go.Figure(data = [data],layout = layout)"
   ]
  },
  {
   "cell_type": "code",
   "execution_count": 53,
   "metadata": {},
   "outputs": [
    {
     "data": {
      "application/vnd.plotly.v1+json": {
       "data": [
        {
         "colorbar": {
          "title": "Indian States color bar"
         },
         "colorscale": "portland",
         "locationmode": "INDIA",
         "locations": [
          "AZ",
          "CA",
          "NY"
         ],
         "text": [
          "hydrabad",
          "Vijayawada",
          "Maharastra"
         ],
         "type": "choropleth",
         "z": [
          1,
          0,
          2,
          3
         ]
        }
       ],
       "layout": {
        "geo": {
         "scope": "india"
        }
       }
      },
      "text/html": [
       "<div id=\"7dd3f2ef-6c76-4b76-aabf-ed05e70cf36d\" style=\"height: 525px; width: 100%;\" class=\"plotly-graph-div\"></div><script type=\"text/javascript\">require([\"plotly\"], function(Plotly) { window.PLOTLYENV=window.PLOTLYENV || {};window.PLOTLYENV.BASE_URL=\"https://plot.ly\";Plotly.newPlot(\"7dd3f2ef-6c76-4b76-aabf-ed05e70cf36d\", [{\"colorscale\": \"portland\", \"text\": [\"hydrabad\", \"Vijayawada\", \"Maharastra\"], \"locations\": [\"AZ\", \"CA\", \"NY\"], \"colorbar\": {\"title\": \"Indian States color bar\"}, \"locationmode\": \"INDIA\", \"z\": [1, 0, 2.0, 3.0], \"type\": \"choropleth\"}], {\"geo\": {\"scope\": \"india\"}}, {\"linkText\": \"Export to plot.ly\", \"showLink\": true})});</script>"
      ],
      "text/vnd.plotly.v1+html": [
       "<div id=\"7dd3f2ef-6c76-4b76-aabf-ed05e70cf36d\" style=\"height: 525px; width: 100%;\" class=\"plotly-graph-div\"></div><script type=\"text/javascript\">require([\"plotly\"], function(Plotly) { window.PLOTLYENV=window.PLOTLYENV || {};window.PLOTLYENV.BASE_URL=\"https://plot.ly\";Plotly.newPlot(\"7dd3f2ef-6c76-4b76-aabf-ed05e70cf36d\", [{\"colorscale\": \"portland\", \"text\": [\"hydrabad\", \"Vijayawada\", \"Maharastra\"], \"locations\": [\"AZ\", \"CA\", \"NY\"], \"colorbar\": {\"title\": \"Indian States color bar\"}, \"locationmode\": \"INDIA\", \"z\": [1, 0, 2.0, 3.0], \"type\": \"choropleth\"}], {\"geo\": {\"scope\": \"india\"}}, {\"linkText\": \"Export to plot.ly\", \"showLink\": true})});</script>"
      ]
     },
     "metadata": {},
     "output_type": "display_data"
    }
   ],
   "source": [
    "iplot(choromap)"
   ]
  },
  {
   "cell_type": "code",
   "execution_count": null,
   "metadata": {
    "collapsed": true
   },
   "outputs": [],
   "source": []
  }
 ],
 "metadata": {
  "kernelspec": {
   "display_name": "Python 2",
   "language": "python",
   "name": "python2"
  },
  "language_info": {
   "codemirror_mode": {
    "name": "ipython",
    "version": 2
   },
   "file_extension": ".py",
   "mimetype": "text/x-python",
   "name": "python",
   "nbconvert_exporter": "python",
   "pygments_lexer": "ipython2",
   "version": "2.7.13"
  }
 },
 "nbformat": 4,
 "nbformat_minor": 2
}
